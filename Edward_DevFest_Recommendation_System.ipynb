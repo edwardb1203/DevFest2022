{
  "nbformat": 4,
  "nbformat_minor": 0,
  "metadata": {
    "colab": {
      "provenance": [],
      "collapsed_sections": [],
      "include_colab_link": true
    },
    "kernelspec": {
      "name": "python3",
      "display_name": "Python 3"
    },
    "language_info": {
      "name": "python"
    }
  },
  "cells": [
    {
      "cell_type": "markdown",
      "metadata": {
        "id": "view-in-github",
        "colab_type": "text"
      },
      "source": [
        "<a href=\"https://colab.research.google.com/github/edwardb1203/DevFest2022/blob/main/Edward_DevFest_Recommendation_System.ipynb\" target=\"_parent\"><img src=\"https://colab.research.google.com/assets/colab-badge.svg\" alt=\"Open In Colab\"/></a>"
      ]
    },
    {
      "cell_type": "markdown",
      "source": [
        "#Building a Movie Recommendation System\n",
        "\n",
        "## Adapted from [this notebook in Kaggle](https://www.kaggle.com/code/ibtesama/getting-started-with-a-movie-recommendation-system/notebook)"
      ],
      "metadata": {
        "id": "3l7UQQs6GFN1"
      }
    },
    {
      "cell_type": "markdown",
      "source": [
        "What is a recommendation system? \n",
        "\n",
        "*   It's a personalized suggestion based on your searches\n",
        "*   Uses algorithmic system to fill your feed\n",
        "i.e.YouTube and/or Medium\n",
        "\n"
      ],
      "metadata": {
        "id": "u3dK0zO5GudF"
      }
    },
    {
      "cell_type": "markdown",
      "source": [
        "#SETUP"
      ],
      "metadata": {
        "id": "I2200dpkG6jT"
      }
    },
    {
      "cell_type": "code",
      "source": [
        "import pandas as pd \n",
        "import numpy as np \n",
        "\n",
        "#Import plt for plotting data\n",
        "import matplotlib.pyplot as plt\n",
        "\n",
        "#-------- For Content Based Filtering\n",
        "#Import TfIdfVectorizer from scikit-learn\n",
        "from sklearn.feature_extraction.text import TfidfVectorizer\n",
        "\n",
        "# Import linear_kernel for similarity matrix\n",
        "from sklearn.metrics.pairwise import linear_kernel\n",
        "\n",
        "# Import literal_eval\n",
        "from ast import literal_eval \n",
        "\n",
        "# Import CountVectorizer and create the count matrix\n",
        "from sklearn.feature_extraction.text import CountVectorizer\n",
        "\n",
        "# Import the Cosine Similarity matrix for the count_matrix\n",
        "from sklearn.metrics.pairwise import cosine_similarity\n"
      ],
      "metadata": {
        "id": "D0oIQUD4HE0G"
      },
      "execution_count": null,
      "outputs": []
    },
    {
      "cell_type": "code",
      "source": [],
      "metadata": {
        "id": "bZVG3eYuTi04"
      },
      "execution_count": null,
      "outputs": []
    },
    {
      "cell_type": "markdown",
      "source": [
        "\n",
        "\n",
        "## Get Data from Kaggle"
      ],
      "metadata": {
        "id": "LX0OCXwoRPko"
      }
    },
    {
      "cell_type": "markdown",
      "source": [
        "\n",
        "\n",
        "1.   Go to https://www.kaggle.com/datasets/tmdb/tmdb-movie-metadata?resource=download \n",
        "2.   Make sure to download \n",
        "\n",
        "\n",
        "> Tmdb_5000_movies.csv\n",
        "\n",
        "\n",
        "> Tmdb_5000_credits.csv"
      ],
      "metadata": {
        "id": "P85AY6IK8_xS"
      }
    },
    {
      "cell_type": "markdown",
      "source": [
        "3. Come back to this Colab, click on the folder icon\n",
        "4. Upload the csv files "
      ],
      "metadata": {
        "id": "tGLhPlfY-61w"
      }
    },
    {
      "cell_type": "code",
      "source": [
        "df1=pd.read_csv('/tmdb_5000_credits.csv')\n",
        "df2=pd.read_csv('/tmdb_5000_movies.csv')"
      ],
      "metadata": {
        "id": "kbxo73QCRQFH"
      },
      "execution_count": null,
      "outputs": []
    },
    {
      "cell_type": "code",
      "source": [
        "from google.colab import drive\n",
        "drive.mount('/content/drive')"
      ],
      "metadata": {
        "colab": {
          "base_uri": "https://localhost:8080/"
        },
        "id": "IcHaRVBaltc1",
        "outputId": "64b48dfd-ec56-434c-b578-6cf09ea39abc"
      },
      "execution_count": null,
      "outputs": [
        {
          "output_type": "stream",
          "name": "stdout",
          "text": [
            "Mounted at /content/drive\n"
          ]
        }
      ]
    },
    {
      "cell_type": "code",
      "source": [
        "df1.columns = ['id','tittle','cast','crew']\n",
        "df2= df2.merge(df1,on='id')"
      ],
      "metadata": {
        "id": "fmafvne-RYVk"
      },
      "execution_count": null,
      "outputs": []
    },
    {
      "cell_type": "code",
      "source": [
        "#testing\n",
        "df2.head()"
      ],
      "metadata": {
        "id": "k1Us-szfTHzt",
        "colab": {
          "base_uri": "https://localhost:8080/",
          "height": 768
        },
        "outputId": "a4cf4cd9-3a7c-4924-b89f-31b41ec7b030"
      },
      "execution_count": null,
      "outputs": [
        {
          "output_type": "execute_result",
          "data": {
            "text/plain": [
              "      budget                                             genres  \\\n",
              "0  237000000  [{\"id\": 28, \"name\": \"Action\"}, {\"id\": 12, \"nam...   \n",
              "1  300000000  [{\"id\": 12, \"name\": \"Adventure\"}, {\"id\": 14, \"...   \n",
              "2  245000000  [{\"id\": 28, \"name\": \"Action\"}, {\"id\": 12, \"nam...   \n",
              "3  250000000  [{\"id\": 28, \"name\": \"Action\"}, {\"id\": 80, \"nam...   \n",
              "4  260000000  [{\"id\": 28, \"name\": \"Action\"}, {\"id\": 12, \"nam...   \n",
              "\n",
              "                                       homepage      id  \\\n",
              "0                   http://www.avatarmovie.com/   19995   \n",
              "1  http://disney.go.com/disneypictures/pirates/     285   \n",
              "2   http://www.sonypictures.com/movies/spectre/  206647   \n",
              "3            http://www.thedarkknightrises.com/   49026   \n",
              "4          http://movies.disney.com/john-carter   49529   \n",
              "\n",
              "                                            keywords original_language  \\\n",
              "0  [{\"id\": 1463, \"name\": \"culture clash\"}, {\"id\":...                en   \n",
              "1  [{\"id\": 270, \"name\": \"ocean\"}, {\"id\": 726, \"na...                en   \n",
              "2  [{\"id\": 470, \"name\": \"spy\"}, {\"id\": 818, \"name...                en   \n",
              "3  [{\"id\": 849, \"name\": \"dc comics\"}, {\"id\": 853,...                en   \n",
              "4  [{\"id\": 818, \"name\": \"based on novel\"}, {\"id\":...                en   \n",
              "\n",
              "                             original_title  \\\n",
              "0                                    Avatar   \n",
              "1  Pirates of the Caribbean: At World's End   \n",
              "2                                   Spectre   \n",
              "3                     The Dark Knight Rises   \n",
              "4                               John Carter   \n",
              "\n",
              "                                            overview  popularity  \\\n",
              "0  In the 22nd century, a paraplegic Marine is di...  150.437577   \n",
              "1  Captain Barbossa, long believed to be dead, ha...  139.082615   \n",
              "2  A cryptic message from Bond’s past sends him o...  107.376788   \n",
              "3  Following the death of District Attorney Harve...  112.312950   \n",
              "4  John Carter is a war-weary, former military ca...   43.926995   \n",
              "\n",
              "                                production_companies  ... runtime  \\\n",
              "0  [{\"name\": \"Ingenious Film Partners\", \"id\": 289...  ...   162.0   \n",
              "1  [{\"name\": \"Walt Disney Pictures\", \"id\": 2}, {\"...  ...   169.0   \n",
              "2  [{\"name\": \"Columbia Pictures\", \"id\": 5}, {\"nam...  ...   148.0   \n",
              "3  [{\"name\": \"Legendary Pictures\", \"id\": 923}, {\"...  ...   165.0   \n",
              "4        [{\"name\": \"Walt Disney Pictures\", \"id\": 2}]  ...   132.0   \n",
              "\n",
              "                                    spoken_languages    status  \\\n",
              "0  [{\"iso_639_1\": \"en\", \"name\": \"English\"}, {\"iso...  Released   \n",
              "1           [{\"iso_639_1\": \"en\", \"name\": \"English\"}]  Released   \n",
              "2  [{\"iso_639_1\": \"fr\", \"name\": \"Fran\\u00e7ais\"},...  Released   \n",
              "3           [{\"iso_639_1\": \"en\", \"name\": \"English\"}]  Released   \n",
              "4           [{\"iso_639_1\": \"en\", \"name\": \"English\"}]  Released   \n",
              "\n",
              "                                          tagline  \\\n",
              "0                     Enter the World of Pandora.   \n",
              "1  At the end of the world, the adventure begins.   \n",
              "2                           A Plan No One Escapes   \n",
              "3                                 The Legend Ends   \n",
              "4            Lost in our world, found in another.   \n",
              "\n",
              "                                      title vote_average vote_count  \\\n",
              "0                                    Avatar          7.2      11800   \n",
              "1  Pirates of the Caribbean: At World's End          6.9       4500   \n",
              "2                                   Spectre          6.3       4466   \n",
              "3                     The Dark Knight Rises          7.6       9106   \n",
              "4                               John Carter          6.1       2124   \n",
              "\n",
              "                                     tittle  \\\n",
              "0                                    Avatar   \n",
              "1  Pirates of the Caribbean: At World's End   \n",
              "2                                   Spectre   \n",
              "3                     The Dark Knight Rises   \n",
              "4                               John Carter   \n",
              "\n",
              "                                                cast  \\\n",
              "0  [{\"cast_id\": 242, \"character\": \"Jake Sully\", \"...   \n",
              "1  [{\"cast_id\": 4, \"character\": \"Captain Jack Spa...   \n",
              "2  [{\"cast_id\": 1, \"character\": \"James Bond\", \"cr...   \n",
              "3  [{\"cast_id\": 2, \"character\": \"Bruce Wayne / Ba...   \n",
              "4  [{\"cast_id\": 5, \"character\": \"John Carter\", \"c...   \n",
              "\n",
              "                                                crew  \n",
              "0  [{\"credit_id\": \"52fe48009251416c750aca23\", \"de...  \n",
              "1  [{\"credit_id\": \"52fe4232c3a36847f800b579\", \"de...  \n",
              "2  [{\"credit_id\": \"54805967c3a36829b5002c41\", \"de...  \n",
              "3  [{\"credit_id\": \"52fe4781c3a36847f81398c3\", \"de...  \n",
              "4  [{\"credit_id\": \"52fe479ac3a36847f813eaa3\", \"de...  \n",
              "\n",
              "[5 rows x 23 columns]"
            ],
            "text/html": [
              "\n",
              "  <div id=\"df-6e6f419e-5692-4453-90a1-8eff738f1e88\">\n",
              "    <div class=\"colab-df-container\">\n",
              "      <div>\n",
              "<style scoped>\n",
              "    .dataframe tbody tr th:only-of-type {\n",
              "        vertical-align: middle;\n",
              "    }\n",
              "\n",
              "    .dataframe tbody tr th {\n",
              "        vertical-align: top;\n",
              "    }\n",
              "\n",
              "    .dataframe thead th {\n",
              "        text-align: right;\n",
              "    }\n",
              "</style>\n",
              "<table border=\"1\" class=\"dataframe\">\n",
              "  <thead>\n",
              "    <tr style=\"text-align: right;\">\n",
              "      <th></th>\n",
              "      <th>budget</th>\n",
              "      <th>genres</th>\n",
              "      <th>homepage</th>\n",
              "      <th>id</th>\n",
              "      <th>keywords</th>\n",
              "      <th>original_language</th>\n",
              "      <th>original_title</th>\n",
              "      <th>overview</th>\n",
              "      <th>popularity</th>\n",
              "      <th>production_companies</th>\n",
              "      <th>...</th>\n",
              "      <th>runtime</th>\n",
              "      <th>spoken_languages</th>\n",
              "      <th>status</th>\n",
              "      <th>tagline</th>\n",
              "      <th>title</th>\n",
              "      <th>vote_average</th>\n",
              "      <th>vote_count</th>\n",
              "      <th>tittle</th>\n",
              "      <th>cast</th>\n",
              "      <th>crew</th>\n",
              "    </tr>\n",
              "  </thead>\n",
              "  <tbody>\n",
              "    <tr>\n",
              "      <th>0</th>\n",
              "      <td>237000000</td>\n",
              "      <td>[{\"id\": 28, \"name\": \"Action\"}, {\"id\": 12, \"nam...</td>\n",
              "      <td>http://www.avatarmovie.com/</td>\n",
              "      <td>19995</td>\n",
              "      <td>[{\"id\": 1463, \"name\": \"culture clash\"}, {\"id\":...</td>\n",
              "      <td>en</td>\n",
              "      <td>Avatar</td>\n",
              "      <td>In the 22nd century, a paraplegic Marine is di...</td>\n",
              "      <td>150.437577</td>\n",
              "      <td>[{\"name\": \"Ingenious Film Partners\", \"id\": 289...</td>\n",
              "      <td>...</td>\n",
              "      <td>162.0</td>\n",
              "      <td>[{\"iso_639_1\": \"en\", \"name\": \"English\"}, {\"iso...</td>\n",
              "      <td>Released</td>\n",
              "      <td>Enter the World of Pandora.</td>\n",
              "      <td>Avatar</td>\n",
              "      <td>7.2</td>\n",
              "      <td>11800</td>\n",
              "      <td>Avatar</td>\n",
              "      <td>[{\"cast_id\": 242, \"character\": \"Jake Sully\", \"...</td>\n",
              "      <td>[{\"credit_id\": \"52fe48009251416c750aca23\", \"de...</td>\n",
              "    </tr>\n",
              "    <tr>\n",
              "      <th>1</th>\n",
              "      <td>300000000</td>\n",
              "      <td>[{\"id\": 12, \"name\": \"Adventure\"}, {\"id\": 14, \"...</td>\n",
              "      <td>http://disney.go.com/disneypictures/pirates/</td>\n",
              "      <td>285</td>\n",
              "      <td>[{\"id\": 270, \"name\": \"ocean\"}, {\"id\": 726, \"na...</td>\n",
              "      <td>en</td>\n",
              "      <td>Pirates of the Caribbean: At World's End</td>\n",
              "      <td>Captain Barbossa, long believed to be dead, ha...</td>\n",
              "      <td>139.082615</td>\n",
              "      <td>[{\"name\": \"Walt Disney Pictures\", \"id\": 2}, {\"...</td>\n",
              "      <td>...</td>\n",
              "      <td>169.0</td>\n",
              "      <td>[{\"iso_639_1\": \"en\", \"name\": \"English\"}]</td>\n",
              "      <td>Released</td>\n",
              "      <td>At the end of the world, the adventure begins.</td>\n",
              "      <td>Pirates of the Caribbean: At World's End</td>\n",
              "      <td>6.9</td>\n",
              "      <td>4500</td>\n",
              "      <td>Pirates of the Caribbean: At World's End</td>\n",
              "      <td>[{\"cast_id\": 4, \"character\": \"Captain Jack Spa...</td>\n",
              "      <td>[{\"credit_id\": \"52fe4232c3a36847f800b579\", \"de...</td>\n",
              "    </tr>\n",
              "    <tr>\n",
              "      <th>2</th>\n",
              "      <td>245000000</td>\n",
              "      <td>[{\"id\": 28, \"name\": \"Action\"}, {\"id\": 12, \"nam...</td>\n",
              "      <td>http://www.sonypictures.com/movies/spectre/</td>\n",
              "      <td>206647</td>\n",
              "      <td>[{\"id\": 470, \"name\": \"spy\"}, {\"id\": 818, \"name...</td>\n",
              "      <td>en</td>\n",
              "      <td>Spectre</td>\n",
              "      <td>A cryptic message from Bond’s past sends him o...</td>\n",
              "      <td>107.376788</td>\n",
              "      <td>[{\"name\": \"Columbia Pictures\", \"id\": 5}, {\"nam...</td>\n",
              "      <td>...</td>\n",
              "      <td>148.0</td>\n",
              "      <td>[{\"iso_639_1\": \"fr\", \"name\": \"Fran\\u00e7ais\"},...</td>\n",
              "      <td>Released</td>\n",
              "      <td>A Plan No One Escapes</td>\n",
              "      <td>Spectre</td>\n",
              "      <td>6.3</td>\n",
              "      <td>4466</td>\n",
              "      <td>Spectre</td>\n",
              "      <td>[{\"cast_id\": 1, \"character\": \"James Bond\", \"cr...</td>\n",
              "      <td>[{\"credit_id\": \"54805967c3a36829b5002c41\", \"de...</td>\n",
              "    </tr>\n",
              "    <tr>\n",
              "      <th>3</th>\n",
              "      <td>250000000</td>\n",
              "      <td>[{\"id\": 28, \"name\": \"Action\"}, {\"id\": 80, \"nam...</td>\n",
              "      <td>http://www.thedarkknightrises.com/</td>\n",
              "      <td>49026</td>\n",
              "      <td>[{\"id\": 849, \"name\": \"dc comics\"}, {\"id\": 853,...</td>\n",
              "      <td>en</td>\n",
              "      <td>The Dark Knight Rises</td>\n",
              "      <td>Following the death of District Attorney Harve...</td>\n",
              "      <td>112.312950</td>\n",
              "      <td>[{\"name\": \"Legendary Pictures\", \"id\": 923}, {\"...</td>\n",
              "      <td>...</td>\n",
              "      <td>165.0</td>\n",
              "      <td>[{\"iso_639_1\": \"en\", \"name\": \"English\"}]</td>\n",
              "      <td>Released</td>\n",
              "      <td>The Legend Ends</td>\n",
              "      <td>The Dark Knight Rises</td>\n",
              "      <td>7.6</td>\n",
              "      <td>9106</td>\n",
              "      <td>The Dark Knight Rises</td>\n",
              "      <td>[{\"cast_id\": 2, \"character\": \"Bruce Wayne / Ba...</td>\n",
              "      <td>[{\"credit_id\": \"52fe4781c3a36847f81398c3\", \"de...</td>\n",
              "    </tr>\n",
              "    <tr>\n",
              "      <th>4</th>\n",
              "      <td>260000000</td>\n",
              "      <td>[{\"id\": 28, \"name\": \"Action\"}, {\"id\": 12, \"nam...</td>\n",
              "      <td>http://movies.disney.com/john-carter</td>\n",
              "      <td>49529</td>\n",
              "      <td>[{\"id\": 818, \"name\": \"based on novel\"}, {\"id\":...</td>\n",
              "      <td>en</td>\n",
              "      <td>John Carter</td>\n",
              "      <td>John Carter is a war-weary, former military ca...</td>\n",
              "      <td>43.926995</td>\n",
              "      <td>[{\"name\": \"Walt Disney Pictures\", \"id\": 2}]</td>\n",
              "      <td>...</td>\n",
              "      <td>132.0</td>\n",
              "      <td>[{\"iso_639_1\": \"en\", \"name\": \"English\"}]</td>\n",
              "      <td>Released</td>\n",
              "      <td>Lost in our world, found in another.</td>\n",
              "      <td>John Carter</td>\n",
              "      <td>6.1</td>\n",
              "      <td>2124</td>\n",
              "      <td>John Carter</td>\n",
              "      <td>[{\"cast_id\": 5, \"character\": \"John Carter\", \"c...</td>\n",
              "      <td>[{\"credit_id\": \"52fe479ac3a36847f813eaa3\", \"de...</td>\n",
              "    </tr>\n",
              "  </tbody>\n",
              "</table>\n",
              "<p>5 rows × 23 columns</p>\n",
              "</div>\n",
              "      <button class=\"colab-df-convert\" onclick=\"convertToInteractive('df-6e6f419e-5692-4453-90a1-8eff738f1e88')\"\n",
              "              title=\"Convert this dataframe to an interactive table.\"\n",
              "              style=\"display:none;\">\n",
              "        \n",
              "  <svg xmlns=\"http://www.w3.org/2000/svg\" height=\"24px\"viewBox=\"0 0 24 24\"\n",
              "       width=\"24px\">\n",
              "    <path d=\"M0 0h24v24H0V0z\" fill=\"none\"/>\n",
              "    <path d=\"M18.56 5.44l.94 2.06.94-2.06 2.06-.94-2.06-.94-.94-2.06-.94 2.06-2.06.94zm-11 1L8.5 8.5l.94-2.06 2.06-.94-2.06-.94L8.5 2.5l-.94 2.06-2.06.94zm10 10l.94 2.06.94-2.06 2.06-.94-2.06-.94-.94-2.06-.94 2.06-2.06.94z\"/><path d=\"M17.41 7.96l-1.37-1.37c-.4-.4-.92-.59-1.43-.59-.52 0-1.04.2-1.43.59L10.3 9.45l-7.72 7.72c-.78.78-.78 2.05 0 2.83L4 21.41c.39.39.9.59 1.41.59.51 0 1.02-.2 1.41-.59l7.78-7.78 2.81-2.81c.8-.78.8-2.07 0-2.86zM5.41 20L4 18.59l7.72-7.72 1.47 1.35L5.41 20z\"/>\n",
              "  </svg>\n",
              "      </button>\n",
              "      \n",
              "  <style>\n",
              "    .colab-df-container {\n",
              "      display:flex;\n",
              "      flex-wrap:wrap;\n",
              "      gap: 12px;\n",
              "    }\n",
              "\n",
              "    .colab-df-convert {\n",
              "      background-color: #E8F0FE;\n",
              "      border: none;\n",
              "      border-radius: 50%;\n",
              "      cursor: pointer;\n",
              "      display: none;\n",
              "      fill: #1967D2;\n",
              "      height: 32px;\n",
              "      padding: 0 0 0 0;\n",
              "      width: 32px;\n",
              "    }\n",
              "\n",
              "    .colab-df-convert:hover {\n",
              "      background-color: #E2EBFA;\n",
              "      box-shadow: 0px 1px 2px rgba(60, 64, 67, 0.3), 0px 1px 3px 1px rgba(60, 64, 67, 0.15);\n",
              "      fill: #174EA6;\n",
              "    }\n",
              "\n",
              "    [theme=dark] .colab-df-convert {\n",
              "      background-color: #3B4455;\n",
              "      fill: #D2E3FC;\n",
              "    }\n",
              "\n",
              "    [theme=dark] .colab-df-convert:hover {\n",
              "      background-color: #434B5C;\n",
              "      box-shadow: 0px 1px 3px 1px rgba(0, 0, 0, 0.15);\n",
              "      filter: drop-shadow(0px 1px 2px rgba(0, 0, 0, 0.3));\n",
              "      fill: #FFFFFF;\n",
              "    }\n",
              "  </style>\n",
              "\n",
              "      <script>\n",
              "        const buttonEl =\n",
              "          document.querySelector('#df-6e6f419e-5692-4453-90a1-8eff738f1e88 button.colab-df-convert');\n",
              "        buttonEl.style.display =\n",
              "          google.colab.kernel.accessAllowed ? 'block' : 'none';\n",
              "\n",
              "        async function convertToInteractive(key) {\n",
              "          const element = document.querySelector('#df-6e6f419e-5692-4453-90a1-8eff738f1e88');\n",
              "          const dataTable =\n",
              "            await google.colab.kernel.invokeFunction('convertToInteractive',\n",
              "                                                     [key], {});\n",
              "          if (!dataTable) return;\n",
              "\n",
              "          const docLinkHtml = 'Like what you see? Visit the ' +\n",
              "            '<a target=\"_blank\" href=https://colab.research.google.com/notebooks/data_table.ipynb>data table notebook</a>'\n",
              "            + ' to learn more about interactive tables.';\n",
              "          element.innerHTML = '';\n",
              "          dataTable['output_type'] = 'display_data';\n",
              "          await google.colab.output.renderOutput(dataTable, element);\n",
              "          const docLink = document.createElement('div');\n",
              "          docLink.innerHTML = docLinkHtml;\n",
              "          element.appendChild(docLink);\n",
              "        }\n",
              "      </script>\n",
              "    </div>\n",
              "  </div>\n",
              "  "
            ]
          },
          "metadata": {},
          "execution_count": 15
        }
      ]
    },
    {
      "cell_type": "markdown",
      "source": [
        "#Filtering Data Based on Demographic"
      ],
      "metadata": {
        "id": "eBW6qun8ZQ_I"
      }
    },
    {
      "cell_type": "markdown",
      "source": [
        "\n",
        "\n",
        "*  We need a metric to score or rate movie\n",
        "*Calculate the score for every movie\n",
        "*Sort the scores and recommend the best rated movie to the users.\n",
        "\n"
      ],
      "metadata": {
        "id": "TwXzCGGkLwrM"
      }
    },
    {
      "cell_type": "markdown",
      "source": [
        "![image.png](data:image/png;base64,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)"
      ],
      "metadata": {
        "id": "58EOSuaJMDWe"
      }
    },
    {
      "cell_type": "markdown",
      "source": [
        "\n",
        "\n",
        "*   'v' is the number of votes for the movie\n",
        "* 'm' is the minimum votes required to be listed in the chart\n",
        "* 'R' is the average rating of the movie\n",
        "* 'C' is the mean vote across the whole report\n",
        "\n"
      ],
      "metadata": {
        "id": "mLYganjKMgvF"
      }
    },
    {
      "cell_type": "code",
      "source": [
        "from numpy.ma.extras import average\n",
        "#find the mean vote - C\n",
        "C = df2['vote_count'].mean()\n",
        "print(\"The average vote is: \" + str(C))\n",
        "\n"
      ],
      "metadata": {
        "id": "s7UEQnX-ZNDv",
        "colab": {
          "base_uri": "https://localhost:8080/"
        },
        "outputId": "ce7a45eb-121c-4688-c21d-bcad39d8a491"
      },
      "execution_count": null,
      "outputs": [
        {
          "output_type": "stream",
          "name": "stdout",
          "text": [
            "The average vote is: 690.2179887570269\n"
          ]
        }
      ]
    },
    {
      "cell_type": "code",
      "source": [
        "#find the minimum votes required\n",
        "m = df2['vote_count'].quantile(0.9)\n",
        "print(\"The minimum vote required is: \" + str(m))"
      ],
      "metadata": {
        "id": "dPJ3_WudNBhV",
        "colab": {
          "base_uri": "https://localhost:8080/"
        },
        "outputId": "68b391e1-a7ec-40a1-dbb6-2e211ec781a2"
      },
      "execution_count": null,
      "outputs": [
        {
          "output_type": "stream",
          "name": "stdout",
          "text": [
            "The minimum vote required is: 1838.4000000000015\n"
          ]
        }
      ]
    },
    {
      "cell_type": "code",
      "source": [
        "#filter out movies that qualify\n",
        "q_movies = df2.copy().loc[df2['vote_count'] >= m]\n",
        "print(\"The amount of movie that qualify: \" + str(q_movies.shape[0]))"
      ],
      "metadata": {
        "id": "d1IrNBjENKC-",
        "colab": {
          "base_uri": "https://localhost:8080/"
        },
        "outputId": "013e1e21-d3ca-42d8-c594-57d57e727de6"
      },
      "execution_count": null,
      "outputs": [
        {
          "output_type": "stream",
          "name": "stdout",
          "text": [
            "The amount of movie that qualify: 481\n"
          ]
        }
      ]
    },
    {
      "cell_type": "code",
      "source": [
        "def weighted_rating(x, m=m, C=C):\n",
        "    v = x['vote_count']\n",
        "    R = x['vote_average']\n",
        "    # Calculation based on the IMDB formula\n",
        "    return (v/(v+m) * R) + (m/(m+v) * C)\n"
      ],
      "metadata": {
        "id": "_-M7VAYhNZYp"
      },
      "execution_count": null,
      "outputs": []
    },
    {
      "cell_type": "code",
      "source": [
        "# Define a new feature 'score' and calculate its value with `weighted_rating()`\n",
        "q_movies['score'] = q_movies.apply(weighted_rating, axis=1)\n"
      ],
      "metadata": {
        "id": "oqcpUVJGPgji"
      },
      "execution_count": null,
      "outputs": []
    },
    {
      "cell_type": "code",
      "source": [
        "#Sort movies based on score calculated above\n",
        "q_movies = q_movies.sort_values('score', ascending=False)\n",
        "\n",
        "#Print the top 15 movies\n",
        "q_movies[['title', 'vote_count', 'vote_average', 'score']].head(10)"
      ],
      "metadata": {
        "id": "ZXTXq6-WPpnz",
        "colab": {
          "base_uri": "https://localhost:8080/",
          "height": 363
        },
        "outputId": "f928d85c-2e5f-4476-8297-08f067a8f85d"
      },
      "execution_count": null,
      "outputs": [
        {
          "output_type": "execute_result",
          "data": {
            "text/plain": [
              "                                        title  vote_count  vote_average  \\\n",
              "2585                          The Hurt Locker        1840           7.2   \n",
              "195   Night at the Museum: Secret of the Tomb        1851           6.1   \n",
              "1405                              The Pianist        1864           8.0   \n",
              "2454                          Dumb and Dumber        1859           6.5   \n",
              "597                     Underworld: Awakening        1862           6.1   \n",
              "1061                            Love Actually        1869           7.0   \n",
              "1173                               The Intern        1881           7.1   \n",
              "137                           Kung Fu Panda 2        1880           6.7   \n",
              "637                            Les Misérables        1884           7.1   \n",
              "1594                             Corpse Bride        1894           7.2   \n",
              "\n",
              "           score  \n",
              "2585  348.560448  \n",
              "195   346.990798  \n",
              "1405  346.750419  \n",
              "2454  346.454333  \n",
              "597   345.977449  \n",
              "1061  345.789435  \n",
              "1173  344.746962  \n",
              "137   344.635529  \n",
              "637   344.474842  \n",
              "1594  343.621678  "
            ],
            "text/html": [
              "\n",
              "  <div id=\"df-9b058d80-ac3c-49ea-b52a-dbcc0527697b\">\n",
              "    <div class=\"colab-df-container\">\n",
              "      <div>\n",
              "<style scoped>\n",
              "    .dataframe tbody tr th:only-of-type {\n",
              "        vertical-align: middle;\n",
              "    }\n",
              "\n",
              "    .dataframe tbody tr th {\n",
              "        vertical-align: top;\n",
              "    }\n",
              "\n",
              "    .dataframe thead th {\n",
              "        text-align: right;\n",
              "    }\n",
              "</style>\n",
              "<table border=\"1\" class=\"dataframe\">\n",
              "  <thead>\n",
              "    <tr style=\"text-align: right;\">\n",
              "      <th></th>\n",
              "      <th>title</th>\n",
              "      <th>vote_count</th>\n",
              "      <th>vote_average</th>\n",
              "      <th>score</th>\n",
              "    </tr>\n",
              "  </thead>\n",
              "  <tbody>\n",
              "    <tr>\n",
              "      <th>2585</th>\n",
              "      <td>The Hurt Locker</td>\n",
              "      <td>1840</td>\n",
              "      <td>7.2</td>\n",
              "      <td>348.560448</td>\n",
              "    </tr>\n",
              "    <tr>\n",
              "      <th>195</th>\n",
              "      <td>Night at the Museum: Secret of the Tomb</td>\n",
              "      <td>1851</td>\n",
              "      <td>6.1</td>\n",
              "      <td>346.990798</td>\n",
              "    </tr>\n",
              "    <tr>\n",
              "      <th>1405</th>\n",
              "      <td>The Pianist</td>\n",
              "      <td>1864</td>\n",
              "      <td>8.0</td>\n",
              "      <td>346.750419</td>\n",
              "    </tr>\n",
              "    <tr>\n",
              "      <th>2454</th>\n",
              "      <td>Dumb and Dumber</td>\n",
              "      <td>1859</td>\n",
              "      <td>6.5</td>\n",
              "      <td>346.454333</td>\n",
              "    </tr>\n",
              "    <tr>\n",
              "      <th>597</th>\n",
              "      <td>Underworld: Awakening</td>\n",
              "      <td>1862</td>\n",
              "      <td>6.1</td>\n",
              "      <td>345.977449</td>\n",
              "    </tr>\n",
              "    <tr>\n",
              "      <th>1061</th>\n",
              "      <td>Love Actually</td>\n",
              "      <td>1869</td>\n",
              "      <td>7.0</td>\n",
              "      <td>345.789435</td>\n",
              "    </tr>\n",
              "    <tr>\n",
              "      <th>1173</th>\n",
              "      <td>The Intern</td>\n",
              "      <td>1881</td>\n",
              "      <td>7.1</td>\n",
              "      <td>344.746962</td>\n",
              "    </tr>\n",
              "    <tr>\n",
              "      <th>137</th>\n",
              "      <td>Kung Fu Panda 2</td>\n",
              "      <td>1880</td>\n",
              "      <td>6.7</td>\n",
              "      <td>344.635529</td>\n",
              "    </tr>\n",
              "    <tr>\n",
              "      <th>637</th>\n",
              "      <td>Les Misérables</td>\n",
              "      <td>1884</td>\n",
              "      <td>7.1</td>\n",
              "      <td>344.474842</td>\n",
              "    </tr>\n",
              "    <tr>\n",
              "      <th>1594</th>\n",
              "      <td>Corpse Bride</td>\n",
              "      <td>1894</td>\n",
              "      <td>7.2</td>\n",
              "      <td>343.621678</td>\n",
              "    </tr>\n",
              "  </tbody>\n",
              "</table>\n",
              "</div>\n",
              "      <button class=\"colab-df-convert\" onclick=\"convertToInteractive('df-9b058d80-ac3c-49ea-b52a-dbcc0527697b')\"\n",
              "              title=\"Convert this dataframe to an interactive table.\"\n",
              "              style=\"display:none;\">\n",
              "        \n",
              "  <svg xmlns=\"http://www.w3.org/2000/svg\" height=\"24px\"viewBox=\"0 0 24 24\"\n",
              "       width=\"24px\">\n",
              "    <path d=\"M0 0h24v24H0V0z\" fill=\"none\"/>\n",
              "    <path d=\"M18.56 5.44l.94 2.06.94-2.06 2.06-.94-2.06-.94-.94-2.06-.94 2.06-2.06.94zm-11 1L8.5 8.5l.94-2.06 2.06-.94-2.06-.94L8.5 2.5l-.94 2.06-2.06.94zm10 10l.94 2.06.94-2.06 2.06-.94-2.06-.94-.94-2.06-.94 2.06-2.06.94z\"/><path d=\"M17.41 7.96l-1.37-1.37c-.4-.4-.92-.59-1.43-.59-.52 0-1.04.2-1.43.59L10.3 9.45l-7.72 7.72c-.78.78-.78 2.05 0 2.83L4 21.41c.39.39.9.59 1.41.59.51 0 1.02-.2 1.41-.59l7.78-7.78 2.81-2.81c.8-.78.8-2.07 0-2.86zM5.41 20L4 18.59l7.72-7.72 1.47 1.35L5.41 20z\"/>\n",
              "  </svg>\n",
              "      </button>\n",
              "      \n",
              "  <style>\n",
              "    .colab-df-container {\n",
              "      display:flex;\n",
              "      flex-wrap:wrap;\n",
              "      gap: 12px;\n",
              "    }\n",
              "\n",
              "    .colab-df-convert {\n",
              "      background-color: #E8F0FE;\n",
              "      border: none;\n",
              "      border-radius: 50%;\n",
              "      cursor: pointer;\n",
              "      display: none;\n",
              "      fill: #1967D2;\n",
              "      height: 32px;\n",
              "      padding: 0 0 0 0;\n",
              "      width: 32px;\n",
              "    }\n",
              "\n",
              "    .colab-df-convert:hover {\n",
              "      background-color: #E2EBFA;\n",
              "      box-shadow: 0px 1px 2px rgba(60, 64, 67, 0.3), 0px 1px 3px 1px rgba(60, 64, 67, 0.15);\n",
              "      fill: #174EA6;\n",
              "    }\n",
              "\n",
              "    [theme=dark] .colab-df-convert {\n",
              "      background-color: #3B4455;\n",
              "      fill: #D2E3FC;\n",
              "    }\n",
              "\n",
              "    [theme=dark] .colab-df-convert:hover {\n",
              "      background-color: #434B5C;\n",
              "      box-shadow: 0px 1px 3px 1px rgba(0, 0, 0, 0.15);\n",
              "      filter: drop-shadow(0px 1px 2px rgba(0, 0, 0, 0.3));\n",
              "      fill: #FFFFFF;\n",
              "    }\n",
              "  </style>\n",
              "\n",
              "      <script>\n",
              "        const buttonEl =\n",
              "          document.querySelector('#df-9b058d80-ac3c-49ea-b52a-dbcc0527697b button.colab-df-convert');\n",
              "        buttonEl.style.display =\n",
              "          google.colab.kernel.accessAllowed ? 'block' : 'none';\n",
              "\n",
              "        async function convertToInteractive(key) {\n",
              "          const element = document.querySelector('#df-9b058d80-ac3c-49ea-b52a-dbcc0527697b');\n",
              "          const dataTable =\n",
              "            await google.colab.kernel.invokeFunction('convertToInteractive',\n",
              "                                                     [key], {});\n",
              "          if (!dataTable) return;\n",
              "\n",
              "          const docLinkHtml = 'Like what you see? Visit the ' +\n",
              "            '<a target=\"_blank\" href=https://colab.research.google.com/notebooks/data_table.ipynb>data table notebook</a>'\n",
              "            + ' to learn more about interactive tables.';\n",
              "          element.innerHTML = '';\n",
              "          dataTable['output_type'] = 'display_data';\n",
              "          await google.colab.output.renderOutput(dataTable, element);\n",
              "          const docLink = document.createElement('div');\n",
              "          docLink.innerHTML = docLinkHtml;\n",
              "          element.appendChild(docLink);\n",
              "        }\n",
              "      </script>\n",
              "    </div>\n",
              "  </div>\n",
              "  "
            ]
          },
          "metadata": {},
          "execution_count": 26
        }
      ]
    },
    {
      "cell_type": "code",
      "source": [
        "#Plot the Overall Popular Movies \n",
        "pop= df2.sort_values('popularity', ascending=False)\n",
        "plt.figure(figsize=(12,4))\n",
        "\n",
        "plt.barh(pop['title'].head(6),pop['popularity'].head(6), align='center',\n",
        "        color='skyblue')\n",
        "plt.gca().invert_yaxis()\n",
        "plt.xlabel(\"Popularity\")\n",
        "plt.title(\"Popular Movies\")\n",
        "\n"
      ],
      "metadata": {
        "id": "C0d3cPqTVuTy",
        "colab": {
          "base_uri": "https://localhost:8080/",
          "height": 313
        },
        "outputId": "7374ef5a-e264-4a1b-8144-290f44d1ff1e"
      },
      "execution_count": null,
      "outputs": [
        {
          "output_type": "execute_result",
          "data": {
            "text/plain": [
              "Text(0.5, 1.0, 'Popular Movies')"
            ]
          },
          "metadata": {},
          "execution_count": 30
        },
        {
          "output_type": "display_data",
          "data": {
            "text/plain": [
              "<Figure size 864x288 with 1 Axes>"
            ],
            "image/png": "[encoded data removed]"
          },
          "metadata": {
            "needs_background": "light"
          }
        }
      ]
    },
    {
      "cell_type": "markdown",
      "source": [],
      "metadata": {
        "id": "WS36egeipRXt"
      }
    }
  ]
}